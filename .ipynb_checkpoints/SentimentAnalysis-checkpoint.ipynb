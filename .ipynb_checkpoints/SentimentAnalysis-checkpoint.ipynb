{
 "cells": [
  {
   "cell_type": "markdown",
   "metadata": {},
   "source": [
    "# Sentiment Analysis for Twitter Data"
   ]
  },
  {
   "cell_type": "markdown",
   "metadata": {},
   "source": [
    "This is a tutorial on sentiment analysis of twitter data using NLTK. NLTK (Natural Language Toolkit) is one of the most popular tools for text processing (also called natural language processing)."
   ]
  },
  {
   "cell_type": "code",
   "execution_count": 2,
   "metadata": {},
   "outputs": [
    {
     "name": "stderr",
     "output_type": "stream",
     "text": [
      "/usr/local/lib/python2.7/dist-packages/nltk/twitter/__init__.py:20: UserWarning: The twython library has not been installed. Some functionality from the twitter package will not be available.\n",
      "  warnings.warn(\"The twython library has not been installed. \"\n"
     ]
    }
   ],
   "source": [
    "# sudo pip install nltk pandas matplotlib\n",
    "# sudo python -m  nltk.downloader stopwords vader_lexicon punkt\n",
    "\n",
    "import nltk\n",
    "from nltk.sentiment.vader import SentimentIntensityAnalyzer as SIA\n",
    "from nltk.corpus import stopwords"
   ]
  },
  {
   "cell_type": "markdown",
   "metadata": {},
   "source": []
  },
  {
   "cell_type": "code",
   "execution_count": 3,
   "metadata": {},
   "outputs": [
    {
     "name": "stdout",
     "output_type": "stream",
     "text": [
      "amazing {'neg': 0.0, 'neu': 0.0, 'pos': 1.0, 'compound': 0.5859}\n",
      "great {'neg': 0.0, 'neu': 0.0, 'pos': 1.0, 'compound': 0.6249}\n",
      "bliss {'neg': 0.0, 'neu': 0.0, 'pos': 1.0, 'compound': 0.5719}\n",
      "concrete {'neg': 0.0, 'neu': 1.0, 'pos': 0.0, 'compound': 0.0}\n",
      "hello {'neg': 0.0, 'neu': 1.0, 'pos': 0.0, 'compound': 0.0}\n",
      "pen {'neg': 0.0, 'neu': 1.0, 'pos': 0.0, 'compound': 0.0}\n",
      "kill {'neg': 1.0, 'neu': 0.0, 'pos': 0.0, 'compound': -0.6908}\n",
      "idiosyncrasy {'neg': 0.0, 'neu': 1.0, 'pos': 0.0, 'compound': 0.0}\n",
      "foil {'neg': 0.0, 'neu': 1.0, 'pos': 0.0, 'compound': 0.0}\n"
     ]
    }
   ],
   "source": [
    "# How to compute the sentiment analysis\n",
    "# VADER (Valence Aware Dictionary for sEntiment Reasoning)\n",
    "\n",
    "# Initializing sentiment intensity analyzer\n",
    "sia = SIA()\n",
    "\n",
    "# Words\n",
    "words = ['amazing','great', 'bliss', 'concrete', 'hello', 'pen', 'kill', 'idiosyncrasy', 'foil']\n",
    "for w in words:\n",
    "    print w, sia.polarity_scores(w)"
   ]
  },
  {
   "cell_type": "code",
   "execution_count": 4,
   "metadata": {},
   "outputs": [
    {
     "name": "stdout",
     "output_type": "stream",
     "text": [
      "Sample Sentence 1 :  {'neg': 0.467, 'neu': 0.533, 'pos': 0.0, 'compound': -0.5423}\n",
      "Sample Sentence 2 :  {'neg': 0.0, 'neu': 0.508, 'pos': 0.492, 'compound': 0.4404}\n",
      "Sample Sentence 3 :  {'neg': 0.157, 'neu': 0.534, 'pos': 0.309, 'compound': 0.3153}\n"
     ]
    }
   ],
   "source": [
    "str1 = \"Smoking is bad for health\"\n",
    "str2 = \"India is a good country\"\n",
    "\n",
    "str3 = \"I like to hate Michael Bay films, but I couldn't fault this one\"\n",
    "\n",
    "\n",
    "print \"Sample Sentence 1 : \", sia.polarity_scores(str1)\n",
    "print \"Sample Sentence 2 : \", sia.polarity_scores(str2)\n",
    "print \"Sample Sentence 3 : \", sia.polarity_scores(str3)"
   ]
  },
  {
   "cell_type": "markdown",
   "metadata": {},
   "source": [
    "## Reading Twitter data"
   ]
  },
  {
   "cell_type": "code",
   "execution_count": 5,
   "metadata": {},
   "outputs": [
    {
     "name": "stdout",
     "output_type": "stream",
     "text": [
      "0         .@Lawrence @HillaryClinton Two first  @SenSchu...\n",
      "1         My @latimesopinion op-ed on historic #Californ...\n",
      "2         #Senate Wisconsin Senate Preview: Johnson vs. ...\n",
      "3         If Rubio Wins and #Trump Loses in #Florida... ...\n",
      "4         #Senate Wisconsin Senate Preview: Johnson vs. ...\n",
      "5         bob day is an \"honest  person \"  #senate patte...\n",
      "6         Make Republicans #PayAPrice!\\n 💙🇺🇸#VoteBLUE🔃th...\n",
      "7         She's done America!! Please vote for @realDona...\n",
      "8         #Illinois #Senate #StrongerTogether https://t....\n",
      "9         #Senate Sen. Mark Warner to speak at ODU for V...\n",
      "10        #Senate Sen. Mark Warner to speak at ODU for V...\n",
      "11        @TammyforIL Sen Kirk has failed the ppl of IL....\n",
      "12        Hat-tip to #PeterRobinson for adding my #Senat...\n",
      "13        #OHIO! #VoteHillary #OHHillYes #ComeOn\\n💙🇺🇸#Vo...\n",
      "14        #Senate Russia will face 'IMMEDIATE CONSEQUENC...\n",
      "15        Owwww! Bet Putin is shivering in his boots! ht...\n",
      "16        #Senate US Senator Claire McCaskill: There's '...\n",
      "17        #Senate Russia will face 'IMMEDIATE CONSEQUENC...\n",
      "18        #Senate US Senator Claire McCaskill: There's '...\n",
      "19        Let's make hist. by winning #senate &amp; make...\n",
      "20        Buhari To Declare NASS Anti-Corruption Seminar...\n",
      "21        #ASISAbuja2016 ReportersAtLarge: Buhari To Dec...\n",
      "22        Its Election Day 2016 EST. VOTE #ClintonKaine2...\n",
      "23        11/7/1983-A bomb explodes in the north wing of...\n",
      "24        I voted early in #maryland . I voted for @Chri...\n",
      "25        #Coalition's #backpackertax plans in disarray ...\n",
      "26        Even if #Hillary wins, nothing will change unl...\n",
      "27        Oh God, I hope so. We need a #DEM #SENATE!! ht...\n",
      "28        so since #MY #GOAL for you all I will now #EXP...\n",
      "29        #ElectionPredictions #... #Elections #Senate #...\n",
      "                                ...                        \n",
      "397599    GO #Pennsylvania #VOTE #TrumpPence2016 #Trump2...\n",
      "397600    Polls are open until 8 tonight, but once they ...\n",
      "397601    Today you must be vigilant for any voter fraud...\n",
      "397602    #election2016 #NYC at The Stanton #ElizabethCa...\n",
      "397603    The Washington family wants you to get out to ...\n",
      "397604    #rockedthevote #election2016 https://t.co/3CFK...\n",
      "397605    #ElectionDay #Election2016 #WatchingTheWorldBu...\n",
      "397606    In and out in 25 minutes. #ivoted #Election201...\n",
      "397607    I know that ain't Ne Yo's \"why can't I turn of...\n",
      "397608    On Election Day, most voters use electronic or...\n",
      "397609    #VOTE 👊🏼\\n\\n#tuesday #election2016 #election #...\n",
      "397610    I gotta see this whole thing cuz Hillary went ...\n",
      "397611    This is actually a very interesting article-go...\n",
      "397612    On Election Day, most voters use electronic or...\n",
      "397613    Sára has her best foot forward on Election Day...\n",
      "397614    Wise choice. He seems to have great stamina. h...\n",
      "397615    All I want is a better world for my son. // #t...\n",
      "397616    This. All the time. #Election2016 https://t.co...\n",
      "397617    No offense, Trumpistas, but I hope that the Do...\n",
      "397618    Happy #Election2016 Which beer are you voting ...\n",
      "397619    Perks of voting - free donut! #election2016 @ ...\n",
      "397620    @souljaboy says the guy how said fuck the troo...\n",
      "397621    Todays the day of change. \\n#Election2016 #Fuc...\n",
      "397622     #Election2016 #ImWithHer https://t.co/YUcGE4SdWF\n",
      "397623    I felt left out, so I'm rocking my own cool st...\n",
      "397624                 Today got me stressed. #Election2016\n",
      "397625    My views on #Election2016 to the tune of #QueC...\n",
      "397626    La disinvolta trasformazione da \"blog Cazzi &a...\n",
      "397627    One of my favorite shots to take is after cast...\n",
      "397628    #MyVoteMatters‼️ #iVoted🏆 #DidYou❓ #Election20...\n",
      "Name: text, Length: 397629, dtype: object\n"
     ]
    }
   ],
   "source": [
    "import pandas as pd\n",
    "\n",
    "# Read from file. Data from https://www.kaggle.com/kinguistics/election-day-tweets\n",
    "tweets = pd.read_csv(\"election-day-tweets/election_day_tweets.csv\", sep=\",\" )\n",
    "print tweets['text']\n"
   ]
  },
  {
   "cell_type": "code",
   "execution_count": 6,
   "metadata": {},
   "outputs": [
    {
     "name": "stdout",
     "output_type": "stream",
     "text": [
      "Sentiment Analysis Successful\n"
     ]
    }
   ],
   "source": [
    "# applying sentiment analysis\n",
    "positive_tweets = []\n",
    "negative_tweets = []\n",
    "compound = []\n",
    "positive = []\n",
    "negative = []\n",
    "\n",
    "total_sample = 50000\n",
    "\n",
    "sampled_tweets = tweets.sample(n=total_sample)\n",
    "\n",
    "for index, row in sampled_tweets.iterrows():\n",
    "    x = sia.polarity_scores(row['text'])\n",
    "    compound.append(x['compound'])\n",
    "    positive.append(x['pos'])\n",
    "    negative.append(x['neg'])\n",
    "    \n",
    "    if x['compound'] > 0.2:\n",
    "        positive_tweets.append(row['text'])\n",
    "        \n",
    "    elif x['compound'] < -0.2:\n",
    "        negative_tweets.append(row['text'])\n",
    "\n",
    "sampled_tweets['compound'] = compound\n",
    "sampled_tweets['negative'] = negative\n",
    "sampled_tweets['positive'] = positive\n",
    "\n",
    "print \"Sentiment Analysis Successful\""
   ]
  },
  {
   "cell_type": "code",
   "execution_count": 7,
   "metadata": {},
   "outputs": [
    {
     "data": {
      "image/png": "[encoded data removed]",
      "text/plain": [
       "<matplotlib.figure.Figure at 0x7f2921bcfa90>"
      ]
     },
     "metadata": {},
     "output_type": "display_data"
    }
   ],
   "source": [
    "#simple bar plot\n",
    "import matplotlib.pyplot as plt\n",
    "\n",
    "plt.xticks([1,2,3],['positive', 'negative', 'neutral'])\n",
    "\n",
    "plt.bar([1,2,3],[len(positive_tweets),len(negative_tweets), total_sample-(len(positive_tweets)+len(negative_tweets))])\n",
    "plt.show()"
   ]
  },
  {
   "cell_type": "code",
   "execution_count": 8,
   "metadata": {},
   "outputs": [
    {
     "name": "stdout",
     "output_type": "stream",
     "text": [
      "['Yes', 'he', 'did', ',', '$', '16', 'trillion', 'in', 'debt', 'not', 'bad', 'hey', '?']\n",
      "['Yes', 'he', 'did', '16', 'trillion', 'in', 'debt', 'not', 'bad', 'hey']\n"
     ]
    }
   ],
   "source": [
    "#If any of the below packages are not available, execute the following - \n",
    "# $ python\n",
    "# > import nltk\n",
    "# > nltk.download()\n",
    "# select the package from corpus or models (punkct)\n",
    "\n",
    "from nltk.tokenize import RegexpTokenizer, word_tokenize\n",
    "\n",
    "example = \"Yes he did , $16 trillion in debt not bad hey ?\"\n",
    "print word_tokenize(example, language='english')\n",
    "\n",
    "#removing special characters including @\n",
    "tokenizer = RegexpTokenizer(r'\\w+')\n",
    "print tokenizer.tokenize(example)"
   ]
  },
  {
   "cell_type": "code",
   "execution_count": 9,
   "metadata": {
    "collapsed": true
   },
   "outputs": [],
   "source": [
    "all_words_pos = []\n",
    "\n",
    "stop_words = set(stopwords.words('english'))\n",
    "#adding a few more stop words\n",
    "stop_words.add('co')\n",
    "stop_words.add('https')\n",
    "stop_words.add('election2016')\n",
    "stop_words.add('congress')\n",
    "stop_words.add('vote')\n",
    "stop_words.add('election')\n",
    "\n",
    "for positive in positive_tweets:\n",
    "    words = tokenizer.tokenize(positive)\n",
    "    for w in words:\n",
    "        if w.lower() not in stop_words:\n",
    "            all_words_pos.append(w.lower())"
   ]
  },
  {
   "cell_type": "code",
   "execution_count": 10,
   "metadata": {
    "collapsed": true
   },
   "outputs": [],
   "source": [
    "all_words_neg = []\n",
    "for negative in negative_tweets:\n",
    "    words = tokenizer.tokenize(negative)\n",
    "    for w in words:\n",
    "        if w.lower() not in stop_words:\n",
    "            all_words_neg.append(w.lower())"
   ]
  },
  {
   "cell_type": "code",
   "execution_count": 11,
   "metadata": {},
   "outputs": [
    {
     "name": "stdout",
     "output_type": "stream",
     "text": [
      "[('democrat', 2480), ('\\xf0', 2260), ('trump', 2072), ('today', 1348), ('america', 1106), ('like', 1061), ('good', 952), ('amp', 945), ('republican', 927), ('day', 850)]\n"
     ]
    }
   ],
   "source": [
    "pos_res = nltk.FreqDist(all_words_pos)\n",
    "print(pos_res.most_common(10))"
   ]
  },
  {
   "cell_type": "code",
   "execution_count": 12,
   "metadata": {},
   "outputs": [
    {
     "name": "stdout",
     "output_type": "stream",
     "text": [
      "[('democrat', 1850), ('trump', 1314), ('\\xf0', 852), ('republican', 612), ('amp', 573), ('people', 516), ('hillary', 456), ('president', 448), ('get', 421), ('\\xe2', 374)]\n"
     ]
    }
   ],
   "source": [
    "neg_res = nltk.FreqDist(all_words_neg)\n",
    "print(neg_res.most_common(10))"
   ]
  },
  {
   "cell_type": "code",
   "execution_count": null,
   "metadata": {
    "collapsed": true
   },
   "outputs": [],
   "source": [
    "# Task: Use tweepy and collect data for a trending hashtag #. Compute the sentiment/polarity for the tweets."
   ]
  },
  {
   "cell_type": "markdown",
   "metadata": {},
   "source": [
    "## References"
   ]
  },
  {
   "cell_type": "markdown",
   "metadata": {},
   "source": [
    "1. http://www.nltk.org/\n",
    "2. https://www.aaai.org/ocs/index.php/ICWSM/ICWSM14/paper/view/8109\n",
    "3. http://www.tweepy.org/"
   ]
  },
  {
   "cell_type": "code",
   "execution_count": null,
   "metadata": {
    "collapsed": true
   },
   "outputs": [],
   "source": []
  }
 ],
 "metadata": {
  "kernelspec": {
   "display_name": "Python 2",
   "language": "python",
   "name": "python2"
  },
  "language_info": {
   "codemirror_mode": {
    "name": "ipython",
    "version": 2
   },
   "file_extension": ".py",
   "mimetype": "text/x-python",
   "name": "python",
   "nbconvert_exporter": "python",
   "pygments_lexer": "ipython2",
   "version": "2.7.12"
  }
 },
 "nbformat": 4,
 "nbformat_minor": 2
}
